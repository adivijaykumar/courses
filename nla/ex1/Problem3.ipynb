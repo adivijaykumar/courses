{
 "cells": [
  {
   "cell_type": "code",
   "execution_count": 2,
   "metadata": {},
   "outputs": [],
   "source": [
    "import numpy as np"
   ]
  },
  {
   "cell_type": "code",
   "execution_count": 23,
   "metadata": {},
   "outputs": [
    {
     "name": "stdout",
     "output_type": "stream",
     "text": [
      "mat = \n",
      "[[-1.3291372  -0.71924533 -0.146565    1.74092075]\n",
      " [ 1.17606763 -0.14154208 -0.22795465  0.69216378]\n",
      " [-1.3386868  -1.16181714 -0.26263738 -0.851776  ]\n",
      " [ 0.65159339 -0.62910012 -2.11672479 -1.51262042]]\n",
      "mat_skew = \n",
      "[[ 0.         -1.89531297  1.1921218   1.08932735]\n",
      " [ 1.89531297  0.          0.93386249  1.32126391]\n",
      " [-1.1921218  -0.93386249  0.          1.2649488 ]\n",
      " [-1.08932735 -1.32126391 -1.2649488   0.        ]]\n",
      "mat_sym = \n",
      "[[-2.65827441  0.4568223  -1.4852518   2.39251414]\n",
      " [ 0.4568223  -0.28308416 -1.3897718   0.06306366]\n",
      " [-1.4852518  -1.3897718  -0.52527475 -2.96850079]\n",
      " [ 2.39251414  0.06306366 -2.96850079 -3.02524083]]\n"
     ]
    }
   ],
   "source": [
    "mat = np.matrix(np.random.randn(4,4))\n",
    "mat_sym = mat + mat.T\n",
    "mat_skew = mat - mat.T\n",
    "\n",
    "print \"mat = \\n%s\"%mat\n",
    "print \"mat_skew = \\n%s\"%mat_skew\n",
    "print \"mat_sym = \\n%s\"%mat_sym"
   ]
  },
  {
   "cell_type": "markdown",
   "metadata": {},
   "source": [
    "## Eigenvalues of skew symmetric matrices are complex"
   ]
  },
  {
   "cell_type": "code",
   "execution_count": 24,
   "metadata": {},
   "outputs": [
    {
     "name": "stdout",
     "output_type": "stream",
     "text": [
      "[ 5.89805982e-17+3.081953j    5.89805982e-17-3.081953j\n",
      " -1.11022302e-16+0.95890476j -1.11022302e-16-0.95890476j]\n"
     ]
    }
   ],
   "source": [
    "print np.linalg.eigvals(mat_skew)"
   ]
  },
  {
   "cell_type": "markdown",
   "metadata": {},
   "source": [
    "## Eigenvalues of symmetric matrices are real"
   ]
  },
  {
   "cell_type": "code",
   "execution_count": 26,
   "metadata": {},
   "outputs": [
    {
     "name": "stdout",
     "output_type": "stream",
     "text": [
      "[ 3.15390873 -5.73353305 -3.34781639 -0.56443343]\n"
     ]
    }
   ],
   "source": [
    "print np.linalg.eigvals(mat_sym)"
   ]
  },
  {
   "cell_type": "markdown",
   "metadata": {},
   "source": [
    "## $I - S$, where $S$ is skew symmetric, is necessarily non-singular"
   ]
  },
  {
   "cell_type": "code",
   "execution_count": 29,
   "metadata": {},
   "outputs": [
    {
     "name": "stdout",
     "output_type": "stream",
     "text": [
      "[1.+3.081953j   1.-3.081953j   1.+0.95890476j 1.-0.95890476j]\n",
      "[[ 0.25893229 -0.40622732  0.09671366 -0.13233364]\n",
      " [ 0.15289253  0.25843363 -0.08422669  0.40146659]\n",
      " [-0.40913402  0.14259516  0.37339646  0.21505236]\n",
      " [ 0.03346018 -0.07932006 -0.46639455  0.34168112]]\n"
     ]
    }
   ],
   "source": [
    "print np.linalg.eigvals(np.identity(4) - mat_skew)\n",
    "print np.linalg.inv(np.identity(4) - mat_skew)"
   ]
  }
 ],
 "metadata": {
  "kernelspec": {
   "display_name": "Python 2",
   "language": "python",
   "name": "python2"
  },
  "language_info": {
   "codemirror_mode": {
    "name": "ipython",
    "version": 2
   },
   "file_extension": ".py",
   "mimetype": "text/x-python",
   "name": "python",
   "nbconvert_exporter": "python",
   "pygments_lexer": "ipython2",
   "version": "2.7.15"
  }
 },
 "nbformat": 4,
 "nbformat_minor": 2
}
